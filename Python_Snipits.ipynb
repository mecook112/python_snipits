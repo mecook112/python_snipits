{
 "cells": [
  {
   "cell_type": "markdown",
   "id": "420da493",
   "metadata": {},
   "source": [
    "# Paramiko code:"
   ]
  },
  {
   "cell_type": "code",
   "execution_count": null,
   "id": "f2bdd4d5",
   "metadata": {},
   "outputs": [],
   "source": [
    "# CODE TO ESTABLISH CONNECTION AND RUN A COMMAND\n",
    "from getpass import getpass\n",
    "import paramiko\n",
    "import time\n",
    "\n",
    "\n",
    "host = input(\"what is the host name: \")\n",
    "user = input(\"what is the username: \")\n",
    "pswd = getpass(\"what is the password: \")\n",
    "\n",
    "\n",
    "client = paramiko.SSHClient()\n",
    "client.set_missing_host_key_policy(paramiko.AutoAddPolicy)\n",
    "client.connect(hostname = host, username = user, password=pswd)\n",
    "\n",
    "stdin, stdout, stderr = client.exec_command('hostname')\n",
    "time.sleep(0.5)\n",
    "print(stdout.read().decode())\n",
    "\n",
    "\n",
    "client.close()"
   ]
  },
  {
   "cell_type": "code",
   "execution_count": null,
   "id": "ed60e79c",
   "metadata": {},
   "outputs": [],
   "source": []
  }
 ],
 "metadata": {
  "kernelspec": {
   "display_name": "Python 3",
   "language": "python",
   "name": "python3"
  },
  "language_info": {
   "codemirror_mode": {
    "name": "ipython",
    "version": 3
   },
   "file_extension": ".py",
   "mimetype": "text/x-python",
   "name": "python",
   "nbconvert_exporter": "python",
   "pygments_lexer": "ipython3",
   "version": "3.8.8"
  }
 },
 "nbformat": 4,
 "nbformat_minor": 5
}
